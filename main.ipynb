{
 "cells": [
  {
   "cell_type": "code",
   "execution_count": 12,
   "metadata": {},
   "outputs": [],
   "source": [
    "from keras.models import Sequential\n",
    "from keras.layers import Dense, GRU, LSTM\n",
    "import numpy as np\n",
    "import matplotlib.pyplot as plt\n",
    "import pandas as pd\n",
    "from sklearn.model_selection import train_test_split\n",
    "from sklearn.preprocessing import MinMaxScaler, StandardScaler, RobustScaler\n",
    "from sklearn.compose import ColumnTransformer\n",
    "import joblib\n",
    "import os"
   ]
  },
  {
   "cell_type": "code",
   "execution_count": 13,
   "metadata": {},
   "outputs": [],
   "source": [
    "SEED = 42424\n",
    "np.random.seed(SEED)\n",
    "\n",
    "os.environ['PYTHONHASHSEED'] = str(SEED)\n",
    "\n"
   ]
  },
  {
   "cell_type": "code",
   "execution_count": 14,
   "metadata": {},
   "outputs": [],
   "source": [
    "# Load the data sets and combine them into a single usable dataframe called data series\n",
    "data_series = pd.read_csv('./data/data_avg_temp.csv')\n",
    "\n",
    "# rename columns to be more descriptive\n",
    "data_series.columns = ['date', 'avg_temp', 'avg_temp_anomaly']\n",
    "data_series.drop(columns=['avg_temp_anomaly'], inplace=True)\n",
    "\n",
    "# append to the dataframe\n",
    "data_cool_degree = pd.read_csv('./data/data_cool_degree_days.csv')\n",
    "data_heat_degree = pd.read_csv('./data/data_heat_degree_days.csv')\n",
    "data_max_temp = pd.read_csv('./data/data_max_temp.csv')\n",
    "data_min_temp = pd.read_csv('./data/data_min_temp.csv')\n",
    "data_palmer_z = pd.read_csv('./data/data_palmer_z.csv')\n",
    "data_pdsi = pd.read_csv('./data/data_pdsi.csv')\n",
    "data_phdi = pd.read_csv('./data/data_phdi.csv')\n",
    "data_pmdi = pd.read_csv('./data/data_pmdi.csv')\n",
    "data_precipitation = pd.read_csv('./data/data_precipitation.csv')\n",
    "\n",
    "\n",
    "\n",
    "# Append columns to the data series\n",
    "data_series['cool_degree_days'] = data_cool_degree['Value']\n",
    "# data_series['cool_degree_days_anomaly'] = data_cool_degree['Anomaly']\n",
    "\n",
    "data_series['heat_degree_days'] = data_heat_degree['Value']\n",
    "# data_series['heat_degree_days_anomaly'] = data_heat_degree['Anomaly']\n",
    "\n",
    "data_series['max_temp'] = data_max_temp['Value']\n",
    "# data_series['max_temp_anomaly'] = data_max_temp['Anomaly']\n",
    "\n",
    "data_series['min_temp'] = data_min_temp['Value']\n",
    "# data_series['min_temp_anomaly'] = data_min_temp['Anomaly']\n",
    "\n",
    "data_series['palmer_z'] = data_palmer_z['Value']\n",
    "# data_series['palmer_z_anomaly'] = data_palmer_z['Anomaly']\n",
    "\n",
    "data_series['pdsi'] = data_pdsi['Value']\n",
    "# data_series['pdsi_anomaly'] = data_pdsi['Anomaly']\n",
    "\n",
    "data_series['phdi'] = data_phdi['Value']\n",
    "# data_series['phdi_anomaly'] = data_phdi['Anomaly']\n",
    "\n",
    "data_series['pmdi'] = data_pmdi['Value']\n",
    "# data_series['pmdi_anomaly'] = data_pmdi['Anomaly']\n",
    "\n",
    "data_series['precipitation'] = data_precipitation['Value']\n",
    "# data_series['precipitation_anomaly'] = data_precipitation['Anomaly']\n",
    "\n",
    "\n"
   ]
  },
  {
   "cell_type": "code",
   "execution_count": 15,
   "metadata": {},
   "outputs": [
    {
     "name": "stdout",
     "output_type": "stream",
     "text": [
      "(1, 1537, 9)\n"
     ]
    }
   ],
   "source": [
    "# Convert dataframe to numpy array\n",
    "avg_temp = data_series['avg_temp'].to_numpy()\n",
    "data_series.drop(columns=['avg_temp'], inplace=True)\n",
    "\n",
    "# x = data_series.to_numpy()\n",
    "\n",
    "# Split the data into training and testing sets\n",
    "# x_train, x_test, y_train, y_test = train_test_split(data_series, avg_temp, test_size=0.2, random_state=SEED)\n",
    "\n",
    "\n",
    "std_scaler = StandardScaler()\n",
    "x_train_scaled = std_scaler.fit_transform(data_series[['max_temp', 'min_temp', 'cool_degree_days', 'heat_degree_days']])\n",
    "# x_test_scaled = std_scaler.transform(x_test[['max_temp', 'min_temp']])\n",
    "\n",
    "# Append to x_train and x_test\n",
    "robust_scaler = RobustScaler()\n",
    "x_train_scaled = np.append(x_train_scaled, robust_scaler.fit_transform(data_series[['palmer_z', 'pdsi', 'phdi', 'pmdi']]), axis=1)\n",
    "# x_test_scaled = np.append(x_test_scaled, robust_scaler.transform(x_test[['palmer_z', 'pdsi', 'phdi', 'pmdi']]), axis=1)\n",
    "\n",
    "minmax_scaler = MinMaxScaler()\n",
    "x_train_scaled = np.append(x_train_scaled, minmax_scaler.fit_transform(data_series[['precipitation']]), axis=1)\n",
    "# x_test_scaled = np.append(x_test_scaled, minmax_scaler.transform(x_test[['precipitation']]), axis=1)\n",
    "\n",
    "joblib.dump(std_scaler, 'std_scaler.joblib')\n",
    "joblib.dump(robust_scaler, 'robust_scaler.joblib')\n",
    "joblib.dump(minmax_scaler, 'minmax_scaler.joblib')\n",
    "\n",
    "\n",
    "\n",
    "# Normalize the data\n",
    "# Define the ColumnTransformer with appropriate scalers\n",
    "# preprocessor = ColumnTransformer(\n",
    "#     transformers=[\n",
    "#         ('std', StandardScaler(), ['max_temp', 'min_temp']),\n",
    "#         ('robust', RobustScaler(), ['cool_degree_days', 'heat_degree_days', 'palmer_z', 'pdsi', 'phdi', 'pmdi']),\n",
    "#         ('minmax', MinMaxScaler(), ['precipitation'])\n",
    "#     ]\n",
    "# )\n",
    "\n",
    "# Fit the ColumnTransformer to the data\n",
    "# x_train_scaled = preprocessor.fit(x_train)\n",
    "# x_test_scaled = preprocessor.transform(x_test)\n",
    "\n",
    "# joblib.dump(preprocessor, 'preprocessor.joblib') \n",
    "\n",
    "# Convert the data for the GRU model to numpy\n",
    "# x_train_scaled = x_train_scaled.to_numpy()\n",
    "# x_test_scaled = x_test_scaled.to_numpy()\n",
    "\n",
    "# Expand first dim\n",
    "x_train_scaled = np.expand_dims(x_train_scaled, axis=0)\n",
    "# x_test_scaled = np.expand_dims(x_test_scaled, axis=0)\n",
    "y_train = np.expand_dims(avg_temp, axis=0)\n",
    "# y_test = np.expand_dims(y_test, axis=0)\n",
    "\n",
    "print(x_train_scaled.shape)\n"
   ]
  },
  {
   "cell_type": "code",
   "execution_count": null,
   "metadata": {},
   "outputs": [],
   "source": [
    "# Train the GRU model\n",
    "model_gru = Sequential(\n",
    "    [\n",
    "        GRU(20, activation='relu', \n",
    "        input_shape=(x_train_scaled.shape[1], x_train_scaled.shape[2])),\n",
    "        Dense(1)\n",
    "    ]\n",
    ")\n",
    "\n",
    "model_gru.compile(optimizer='adam', loss='mse')\n",
    "model_gru.fit(x_train_scaled, y_train, epochs=1000 , batch_size=1,verbose=1)\n"
   ]
  },
  {
   "cell_type": "code",
   "execution_count": null,
   "metadata": {},
   "outputs": [],
   "source": [
    "# Predict the temperature by regressing the other features and then predicting average temperature\n",
    "parameters = ['max_temp', 'min_temp', 'cool_degree_days', 'heat_degree_days', 'palmer_z', 'pdsi', 'phdi', 'pmdi', 'precipitation']\n",
    "models = {}\n",
    "scalers = {}\n",
    "\n",
    "date = data_series['date'].to_numpy()\n",
    "date_splice = np.zeros((len(date), 2))\n",
    "\n",
    "param_models = []\n",
    "\n",
    "for i, element in enumerate(date):\n",
    "    # print(element)\n",
    "    # Splice this string to get year and month\n",
    "    date_splice[i,0] = int(str(element)[0:4])\n",
    "    date_splice[i,1] = int(str(element)[5:7])\n",
    "\n",
    "for param in parameters:\n",
    "    print(f\"PARAM\", param)\n",
    "    y = data_series[param].to_numpy()\n",
    "    X_train, X_test, y_train, y_test = train_test_split(date_splice, y, test_size=0.2, shuffle=False, random_state=SEED)\n",
    "\n",
    "    model = Sequential([\n",
    "        Dense(5, activation='relu', input_shape=(X_train.shape[1],)),  # input_shape=(2,)\n",
    "        Dense(1)  # Output layer\n",
    "    ])\n",
    "\n",
    "    model.compile(optimizer='adam', loss='mse')\n",
    "    model.fit(X_train, y_train, epochs=500, batch_size=64, validation_data=(X_test, y_test), verbose=1)\n",
    "\n",
    "    # Save model\n",
    "    param_models.append(model)\n"
   ]
  },
  {
   "cell_type": "code",
   "execution_count": null,
   "metadata": {},
   "outputs": [],
   "source": [
    "# Prediction of the average temperature\n",
    "# Using the trained models to predict the parameters and then use those predictions as input for the GRU model\n",
    "\n",
    "years = 60\n",
    "date_predict = np.zeros((years*12, 2))\n",
    "for i in range(years*12):\n",
    "    date_predict[i, 0] = 2024 + i // 12\n",
    "    date_predict[i, 1] = 1 + i % 12\n",
    "\n",
    "\n",
    "param_predicts = np.zeros((len(parameters),years*12))\n",
    "\n",
    "#  Predict the parameters.\n",
    "for k, model in enumerate(param_models):\n",
    "    for i in range(years*12):\n",
    "        answer = model.predict(date_predict[i].reshape(1, -1))\n",
    "        param_predicts[k, i] = answer\n",
    "\n",
    "yearmonth_vec = np.zeros((years*12,1))\n",
    "for i in range(years*12):\n",
    "    yearmonth_vec[i] = date_predict[i, 0] * 100 + date_predict[i, 1]\n",
    "\n",
    "# params_predicts = np.append(yearmonth_vec, param_predicts.T, axis=1)\n",
    "\n",
    "columns = ['max_temp', 'min_temp', 'cool_degree_days', 'heat_degree_days', 'palmer_z', 'pdsi', 'phdi', 'pmdi', 'precipitation']\n",
    "\n",
    "df_predict = pd.DataFrame(param_predicts.T, columns=columns)\n",
    "\n",
    "# Normalize the data with the same scalers\n",
    "predict_scaled = std_scaler.transform(df_predict[['max_temp', 'min_temp', 'cool_degree_days', 'heat_degree_days']])\n",
    "predict_scaled = np.append(predict_scaled, robust_scaler.transform(df_predict[['palmer_z', 'pdsi', 'phdi', 'pmdi']]), axis=1)\n",
    "predict_scaled = np.append(predict_scaled, minmax_scaler.transform(df_predict[['precipitation']]), axis=1)\n",
    "\n",
    "# predict_scaled = np.append(yearmonth_vec, predict_scaled, axis=1)\n",
    "\n",
    "print(predict_scaled)\n",
    "\n"
   ]
  },
  {
   "cell_type": "code",
   "execution_count": null,
   "metadata": {},
   "outputs": [],
   "source": [
    "print(predict_scaled.shape)\n",
    "\n",
    "for i in range(years*12):\n",
    "    print(f\"Predicted parameters:\")\n",
    "    for j, param in enumerate(parameters):\n",
    "        print(f\"{param}: {predict_scaled[i,j]}\")\n",
    "    \n",
    "    # print(\"\\n\")"
   ]
  },
  {
   "cell_type": "code",
   "execution_count": null,
   "metadata": {},
   "outputs": [],
   "source": [
    "\n",
    "# Use predicted params for GRU input to predict avg_temp\n",
    "predictions = []\n",
    "\n",
    "for i in range(years*12):\n",
    "    new_timestep = predict_scaled[i,:]\n",
    "    new_timestep = np.expand_dims(new_timestep, axis=0)\n",
    "    x = np.append(x_train_scaled[:,1:,:], np.expand_dims(new_timestep, axis=0), axis=1)\n",
    "\n",
    "    # x = np.expand_dims(params_predicts[i, :], axis=0)\n",
    "    avg_temp_predict = model_gru.predict(x)\n",
    "    predictions.append(avg_temp_predict)\n",
    "\n",
    "\n",
    "print(predictions)\n"
   ]
  },
  {
   "cell_type": "code",
   "execution_count": 21,
   "metadata": {},
   "outputs": [
    {
     "data": {
      "text/plain": [
       "[<matplotlib.lines.Line2D at 0x7f3c681ebf80>]"
      ]
     },
     "execution_count": 21,
     "metadata": {},
     "output_type": "execute_result"
    },
    {
     "data": {
      "image/png": "[encoded data removed]",
      "text/plain": [
       "<Figure size 640x480 with 1 Axes>"
      ]
     },
     "metadata": {},
     "output_type": "display_data"
    }
   ],
   "source": [
    "# plot the predictions\n",
    "predictions = np.array(predictions).reshape(-1)\n",
    "plt.plot(yearmonth_vec[:], predictions[:], label='Predicted')\n"
   ]
  }
 ],
 "metadata": {
  "kernelspec": {
   "display_name": "ml_new_mexico",
   "language": "python",
   "name": "python3"
  },
  "language_info": {
   "codemirror_mode": {
    "name": "ipython",
    "version": 3
   },
   "file_extension": ".py",
   "mimetype": "text/x-python",
   "name": "python",
   "nbconvert_exporter": "python",
   "pygments_lexer": "ipython3",
   "version": "3.12.7"
  }
 },
 "nbformat": 4,
 "nbformat_minor": 2
}
